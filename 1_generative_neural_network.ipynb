{
 "cells": [
  {
   "cell_type": "code",
   "execution_count": 1,
   "metadata": {},
   "outputs": [],
   "source": [
    "from astropy.io import fits\n",
    "import os\n",
    "import matplotlib.pyplot as plt\n",
    "import numpy as np\n",
    "from scipy.optimize import curve_fit\n",
    "np.seterr(divide='ignore', invalid='ignore');\n",
    "plt.rcParams.update({'figure.max_open_warning': 0})\n",
    "plt.style.use('default')\n",
    "import scipy.stats as stats\n",
    "from astropy.table import Table, Column, MaskedColumn, join\n",
    "from tqdm import tqdm\n",
    "c = 2.998e10\n",
    "k = 1.38e-16\n",
    "h = 6.626e-27\n",
    "plt.rcParams.update({'font.size': 22})\n",
    "halpha = 6564.61\n",
    "hbeta = 4862.68\n",
    "hgamma = 4341.68\n",
    "hdelta = 4102.89\n",
    "plt.rcParams['figure.figsize'] = [15, 10]\n",
    "from scipy.interpolate import interp1d,InterpolatedUnivariateSpline\n",
    "import lmfit\n",
    "def find_nearest(array, value):\n",
    "    array = np.asarray(array)\n",
    "    idx = (np.abs(array - value)).argmin()\n",
    "    return idx\n",
    "import emcee\n",
    "from lmfit import Model,Minimizer\n",
    "import corner\n",
    "import numdifftools\n",
    "from scipy.ndimage.interpolation import shift\n",
    "import pickle"
   ]
  },
  {
   "cell_type": "code",
   "execution_count": 2,
   "metadata": {},
   "outputs": [
    {
     "name": "stderr",
     "output_type": "stream",
     "text": [
      "Using TensorFlow backend.\n"
     ]
    }
   ],
   "source": [
    "import numpy as np\n",
    "from keras.models import *\n",
    "from keras.layers import *\n",
    "from keras.optimizers import *\n",
    "from keras.callbacks import ModelCheckpoint, LearningRateScheduler\n",
    "from keras.preprocessing.image import ImageDataGenerator, array_to_img, img_to_array, load_img\n",
    "from sklearn.model_selection import train_test_split\n",
    "from sklearn.preprocessing import normalize,scale,MinMaxScaler,StandardScaler"
   ]
  },
  {
   "cell_type": "code",
   "execution_count": 3,
   "metadata": {},
   "outputs": [],
   "source": [
    "arr = pickle.load(open('modelspecs.p','rb'))\n",
    "modelspectra = arr[0]\n",
    "teffs = arr[2]\n",
    "loggs = arr[1]"
   ]
  },
  {
   "cell_type": "code",
   "execution_count": 4,
   "metadata": {},
   "outputs": [],
   "source": [
    "def v_mse(y_true, y_pred):\n",
    "    return K.mean((1e5*y_pred - 1e5*y_true )**2)\n",
    "\n",
    "def labelscaler(array):\n",
    "    array[:,0] = array[:,0] / 80000\n",
    "    array[:,1] = array[:,1] / 9.5\n",
    "    return array\n",
    "\n",
    "def labelunscaler(array):\n",
    "    array[:,0] = array[:,0] * 80000\n",
    "    array[:,1] = array[:,1] * 9.5\n",
    "    return array"
   ]
  },
  {
   "cell_type": "code",
   "execution_count": 6,
   "metadata": {},
   "outputs": [],
   "source": [
    "X = labelscaler(np.stack((teffs,loggs)).transpose())\n",
    "\n",
    "t = (modelspectra/np.max(modelspectra))\n",
    "\n",
    "modelscaling = np.max(modelspectra)"
   ]
  },
  {
   "cell_type": "code",
   "execution_count": 7,
   "metadata": {},
   "outputs": [],
   "source": [
    "def generator():\n",
    "    model = Sequential()\n",
    "    \n",
    "    model.add(Dense(2,input_shape=X[0].shape))\n",
    "    model.add(Dense(1024,activation='relu'))\n",
    "    model.add(Dense(1024,activation='relu'))\n",
    "    model.add(Dense(4000,activation='sigmoid'))\n",
    "    model.compile(optimizer = Adam(lr=1e-3), loss = v_mse, \\\n",
    "                  metrics = ['mean_absolute_percentage_error'])\n",
    "    return model"
   ]
  },
  {
   "cell_type": "code",
   "execution_count": 9,
   "metadata": {},
   "outputs": [
    {
     "name": "stdout",
     "output_type": "stream",
     "text": [
      "_________________________________________________________________\n",
      "Layer (type)                 Output Shape              Param #   \n",
      "=================================================================\n",
      "dense_5 (Dense)              (None, 2)                 6         \n",
      "_________________________________________________________________\n",
      "dense_6 (Dense)              (None, 1024)              3072      \n",
      "_________________________________________________________________\n",
      "dense_7 (Dense)              (None, 1024)              1049600   \n",
      "_________________________________________________________________\n",
      "dense_8 (Dense)              (None, 4000)              4100000   \n",
      "=================================================================\n",
      "Total params: 5,152,678\n",
      "Trainable params: 5,152,678\n",
      "Non-trainable params: 0\n",
      "_________________________________________________________________\n",
      "None\n"
     ]
    }
   ],
   "source": [
    "model = generator()\n",
    "model.load_weights('generator100_1024.h5')\n",
    "print(model.summary())"
   ]
  },
  {
   "cell_type": "code",
   "execution_count": 10,
   "metadata": {
    "scrolled": true
   },
   "outputs": [
    {
     "name": "stderr",
     "output_type": "stream",
     "text": [
      "W0725 17:24:02.545054 47307748472128 deprecation.py:323] From /home-4/vchandr8@jhu.edu/anaconda/lib/python3.7/site-packages/tensorflow/python/ops/math_grad.py:1205: add_dispatch_support.<locals>.wrapper (from tensorflow.python.ops.array_ops) is deprecated and will be removed in a future version.\n",
      "Instructions for updating:\n",
      "Use tf.where in 2.0, which has the same broadcast rule as np.where\n"
     ]
    },
    {
     "name": "stdout",
     "output_type": "stream",
     "text": [
      "Epoch 1/200\n",
      " - 1s - loss: 18862.6505 - mean_absolute_percentage_error: 3.0483\n",
      "Epoch 2/200\n",
      " - 1s - loss: 593.9585 - mean_absolute_percentage_error: 0.7218\n",
      "Epoch 3/200\n",
      " - 1s - loss: 204.9501 - mean_absolute_percentage_error: 0.4647\n",
      "Epoch 4/200\n",
      " - 1s - loss: 179.5711 - mean_absolute_percentage_error: 0.4473\n",
      "Epoch 5/200\n",
      " - 1s - loss: 185.6234 - mean_absolute_percentage_error: 0.4686\n",
      "Epoch 6/200\n",
      " - 1s - loss: 192.4883 - mean_absolute_percentage_error: 0.4490\n",
      "Epoch 7/200\n",
      " - 1s - loss: 195.0859 - mean_absolute_percentage_error: 0.4420\n",
      "Epoch 8/200\n",
      " - 1s - loss: 184.6539 - mean_absolute_percentage_error: 0.4493\n",
      "Epoch 9/200\n",
      " - 1s - loss: 204.4424 - mean_absolute_percentage_error: 0.4770\n",
      "Epoch 10/200\n",
      " - 1s - loss: 192.1772 - mean_absolute_percentage_error: 0.4645\n",
      "Epoch 11/200\n",
      " - 1s - loss: 193.1054 - mean_absolute_percentage_error: 0.4556\n",
      "Epoch 12/200\n",
      " - 1s - loss: 191.6560 - mean_absolute_percentage_error: 0.4570\n",
      "Epoch 13/200\n",
      " - 1s - loss: 234.2707 - mean_absolute_percentage_error: 0.4709\n",
      "Epoch 14/200\n",
      " - 1s - loss: 335.3811 - mean_absolute_percentage_error: 0.6348\n",
      "Epoch 15/200\n",
      " - 1s - loss: 244.1783 - mean_absolute_percentage_error: 0.4953\n",
      "Epoch 16/200\n",
      " - 1s - loss: 274.8960 - mean_absolute_percentage_error: 0.5344\n",
      "Epoch 17/200\n",
      " - 1s - loss: 216.3745 - mean_absolute_percentage_error: 0.4897\n",
      "Epoch 18/200\n",
      " - 1s - loss: 222.9579 - mean_absolute_percentage_error: 0.5043\n",
      "Epoch 19/200\n",
      " - 1s - loss: 293.4063 - mean_absolute_percentage_error: 0.5833\n",
      "Epoch 20/200\n",
      " - 1s - loss: 321.8314 - mean_absolute_percentage_error: 0.6694\n",
      "Epoch 21/200\n",
      " - 1s - loss: 305.5330 - mean_absolute_percentage_error: 0.5353\n",
      "Epoch 22/200\n",
      " - 1s - loss: 426.8996 - mean_absolute_percentage_error: 0.6037\n",
      "Epoch 23/200\n",
      " - 1s - loss: 378.2588 - mean_absolute_percentage_error: 0.6887\n",
      "Epoch 24/200\n",
      " - 1s - loss: 364.5050 - mean_absolute_percentage_error: 0.6049\n",
      "Epoch 25/200\n",
      " - 1s - loss: 324.0799 - mean_absolute_percentage_error: 0.6042\n",
      "Epoch 26/200\n",
      " - 1s - loss: 258.5714 - mean_absolute_percentage_error: 0.5444\n",
      "Epoch 27/200\n",
      " - 1s - loss: 246.2755 - mean_absolute_percentage_error: 0.4887\n",
      "Epoch 28/200\n",
      " - 1s - loss: 240.6629 - mean_absolute_percentage_error: 0.4999\n",
      "Epoch 29/200\n",
      " - 1s - loss: 327.3870 - mean_absolute_percentage_error: 0.5331\n",
      "Epoch 30/200\n",
      " - 1s - loss: 660.3676 - mean_absolute_percentage_error: 0.6778\n",
      "Epoch 31/200\n",
      " - 1s - loss: 684.5379 - mean_absolute_percentage_error: 0.7682\n",
      "Epoch 32/200\n",
      " - 1s - loss: 749.5558 - mean_absolute_percentage_error: 0.9356\n",
      "Epoch 33/200\n",
      " - 1s - loss: 807.8619 - mean_absolute_percentage_error: 0.9250\n",
      "Epoch 34/200\n",
      " - 1s - loss: 463.5886 - mean_absolute_percentage_error: 0.6204\n",
      "Epoch 35/200\n",
      " - 1s - loss: 638.1506 - mean_absolute_percentage_error: 0.9182\n",
      "Epoch 36/200\n",
      " - 1s - loss: 714.2764 - mean_absolute_percentage_error: 0.7991\n",
      "Epoch 37/200\n",
      " - 1s - loss: 1616.3661 - mean_absolute_percentage_error: 1.1560\n",
      "Epoch 38/200\n",
      " - 1s - loss: 1720.0923 - mean_absolute_percentage_error: 1.1408\n",
      "Epoch 39/200\n",
      " - 1s - loss: 2422.8151 - mean_absolute_percentage_error: 1.4297\n",
      "Epoch 40/200\n",
      " - 1s - loss: 919.8046 - mean_absolute_percentage_error: 0.8930\n",
      "Epoch 41/200\n",
      " - 1s - loss: 541.7881 - mean_absolute_percentage_error: 0.7505\n",
      "Epoch 42/200\n",
      " - 1s - loss: 823.9877 - mean_absolute_percentage_error: 0.8582\n",
      "Epoch 43/200\n",
      " - 1s - loss: 1325.3097 - mean_absolute_percentage_error: 0.9287\n",
      "Epoch 44/200\n",
      " - 1s - loss: 820.9352 - mean_absolute_percentage_error: 0.9343\n",
      "Epoch 45/200\n",
      " - 1s - loss: 624.6708 - mean_absolute_percentage_error: 0.8334\n",
      "Epoch 46/200\n",
      " - 1s - loss: 614.8859 - mean_absolute_percentage_error: 0.7575\n",
      "Epoch 47/200\n",
      " - 1s - loss: 956.0921 - mean_absolute_percentage_error: 0.9847\n",
      "Epoch 48/200\n",
      " - 1s - loss: 1120.1734 - mean_absolute_percentage_error: 1.0241\n",
      "Epoch 49/200\n",
      " - 1s - loss: 836.3903 - mean_absolute_percentage_error: 0.9441\n",
      "Epoch 50/200\n",
      " - 1s - loss: 835.5811 - mean_absolute_percentage_error: 0.8416\n",
      "Epoch 51/200\n",
      " - 1s - loss: 928.6743 - mean_absolute_percentage_error: 0.8113\n",
      "Epoch 52/200\n",
      " - 1s - loss: 2974.0358 - mean_absolute_percentage_error: 1.4646\n",
      "Epoch 53/200\n",
      " - 1s - loss: 4168.7330 - mean_absolute_percentage_error: 1.6389\n",
      "Epoch 54/200\n",
      " - 1s - loss: 580.4090 - mean_absolute_percentage_error: 0.6487\n",
      "Epoch 55/200\n",
      " - 1s - loss: 365.0826 - mean_absolute_percentage_error: 0.6285\n",
      "Epoch 56/200\n",
      " - 1s - loss: 317.3833 - mean_absolute_percentage_error: 0.5575\n",
      "Epoch 57/200\n",
      " - 1s - loss: 252.3532 - mean_absolute_percentage_error: 0.5472\n",
      "Epoch 58/200\n",
      " - 1s - loss: 220.0913 - mean_absolute_percentage_error: 0.4717\n",
      "Epoch 59/200\n",
      " - 1s - loss: 208.3656 - mean_absolute_percentage_error: 0.4700\n",
      "Epoch 60/200\n",
      " - 1s - loss: 255.2384 - mean_absolute_percentage_error: 0.5112\n",
      "Epoch 61/200\n",
      " - 1s - loss: 372.9189 - mean_absolute_percentage_error: 0.5758\n",
      "Epoch 62/200\n",
      " - 1s - loss: 373.0426 - mean_absolute_percentage_error: 0.6552\n",
      "Epoch 63/200\n",
      " - 1s - loss: 290.9837 - mean_absolute_percentage_error: 0.5549\n",
      "Epoch 64/200\n",
      " - 1s - loss: 241.4481 - mean_absolute_percentage_error: 0.4890\n",
      "Epoch 65/200\n",
      " - 1s - loss: 241.2800 - mean_absolute_percentage_error: 0.4883\n",
      "Epoch 66/200\n",
      " - 1s - loss: 232.3029 - mean_absolute_percentage_error: 0.4766\n",
      "Epoch 67/200\n",
      " - 1s - loss: 486.5021 - mean_absolute_percentage_error: 0.6297\n",
      "Epoch 68/200\n",
      " - 1s - loss: 450.2939 - mean_absolute_percentage_error: 0.6534\n",
      "Epoch 69/200\n",
      " - 1s - loss: 274.9012 - mean_absolute_percentage_error: 0.5116\n",
      "Epoch 70/200\n",
      " - 1s - loss: 958.7085 - mean_absolute_percentage_error: 0.8900\n",
      "Epoch 71/200\n",
      " - 1s - loss: 4317.6092 - mean_absolute_percentage_error: 1.7860\n",
      "Epoch 72/200\n",
      " - 1s - loss: 957.1913 - mean_absolute_percentage_error: 0.9068\n",
      "Epoch 73/200\n",
      " - 1s - loss: 584.6549 - mean_absolute_percentage_error: 0.7702\n",
      "Epoch 74/200\n",
      " - 1s - loss: 378.2077 - mean_absolute_percentage_error: 0.6115\n",
      "Epoch 75/200\n",
      " - 1s - loss: 610.2722 - mean_absolute_percentage_error: 0.7958\n",
      "Epoch 76/200\n",
      " - 1s - loss: 1221.3926 - mean_absolute_percentage_error: 0.8757\n",
      "Epoch 77/200\n",
      " - 1s - loss: 2834.7849 - mean_absolute_percentage_error: 1.3693\n",
      "Epoch 78/200\n",
      " - 1s - loss: 1569.0981 - mean_absolute_percentage_error: 1.0447\n",
      "Epoch 79/200\n",
      " - 1s - loss: 815.5679 - mean_absolute_percentage_error: 0.8053\n",
      "Epoch 80/200\n",
      " - 1s - loss: 693.0320 - mean_absolute_percentage_error: 0.7660\n",
      "Epoch 81/200\n",
      " - 1s - loss: 429.9404 - mean_absolute_percentage_error: 0.5754\n",
      "Epoch 82/200\n",
      " - 1s - loss: 320.5256 - mean_absolute_percentage_error: 0.5354\n",
      "Epoch 83/200\n",
      " - 1s - loss: 325.3539 - mean_absolute_percentage_error: 0.5634\n",
      "Epoch 84/200\n",
      " - 1s - loss: 356.4143 - mean_absolute_percentage_error: 0.6111\n",
      "Epoch 85/200\n",
      " - 1s - loss: 741.8922 - mean_absolute_percentage_error: 0.8090\n",
      "Epoch 86/200\n",
      " - 1s - loss: 261.0654 - mean_absolute_percentage_error: 0.5480\n",
      "Epoch 87/200\n",
      " - 1s - loss: 450.9064 - mean_absolute_percentage_error: 0.6713\n",
      "Epoch 88/200\n",
      " - 1s - loss: 481.9854 - mean_absolute_percentage_error: 0.7182\n",
      "Epoch 89/200\n",
      " - 1s - loss: 279.8179 - mean_absolute_percentage_error: 0.5252\n",
      "Epoch 90/200\n",
      " - 1s - loss: 259.2339 - mean_absolute_percentage_error: 0.5043\n",
      "Epoch 91/200\n",
      " - 1s - loss: 248.1604 - mean_absolute_percentage_error: 0.5205\n",
      "Epoch 92/200\n",
      " - 1s - loss: 338.8018 - mean_absolute_percentage_error: 0.5581\n",
      "Epoch 93/200\n",
      " - 1s - loss: 454.3985 - mean_absolute_percentage_error: 0.6752\n",
      "Epoch 94/200\n",
      " - 1s - loss: 408.0767 - mean_absolute_percentage_error: 0.7033\n",
      "Epoch 95/200\n",
      " - 1s - loss: 304.7490 - mean_absolute_percentage_error: 0.5666\n",
      "Epoch 96/200\n",
      " - 1s - loss: 304.2079 - mean_absolute_percentage_error: 0.5716\n",
      "Epoch 97/200\n",
      " - 1s - loss: 653.3379 - mean_absolute_percentage_error: 0.7395\n",
      "Epoch 98/200\n",
      " - 1s - loss: 362.8906 - mean_absolute_percentage_error: 0.6159\n",
      "Epoch 99/200\n",
      " - 1s - loss: 392.0373 - mean_absolute_percentage_error: 0.7019\n",
      "Epoch 100/200\n",
      " - 1s - loss: 2238.5226 - mean_absolute_percentage_error: 1.2798\n",
      "Epoch 101/200\n",
      " - 1s - loss: 10563.7938 - mean_absolute_percentage_error: 3.9861\n",
      "Epoch 102/200\n",
      " - 1s - loss: 4159.6666 - mean_absolute_percentage_error: 1.8835\n",
      "Epoch 103/200\n",
      " - 1s - loss: 1526.2568 - mean_absolute_percentage_error: 1.3693\n",
      "Epoch 104/200\n",
      " - 1s - loss: 2782.3155 - mean_absolute_percentage_error: 1.5264\n",
      "Epoch 105/200\n",
      " - 1s - loss: 1815.8983 - mean_absolute_percentage_error: 1.0827\n",
      "Epoch 106/200\n",
      " - 1s - loss: 741.9738 - mean_absolute_percentage_error: 0.8199\n",
      "Epoch 107/200\n"
     ]
    },
    {
     "name": "stdout",
     "output_type": "stream",
     "text": [
      " - 1s - loss: 486.9362 - mean_absolute_percentage_error: 0.7333\n",
      "Epoch 108/200\n",
      " - 1s - loss: 300.3257 - mean_absolute_percentage_error: 0.5744\n",
      "Epoch 109/200\n",
      " - 1s - loss: 253.5495 - mean_absolute_percentage_error: 0.5254\n",
      "Epoch 110/200\n",
      " - 1s - loss: 224.1065 - mean_absolute_percentage_error: 0.4719\n",
      "Epoch 111/200\n",
      " - 1s - loss: 207.9850 - mean_absolute_percentage_error: 0.4616\n",
      "Epoch 112/200\n",
      " - 1s - loss: 246.0990 - mean_absolute_percentage_error: 0.4842\n",
      "Epoch 113/200\n",
      " - 1s - loss: 327.5181 - mean_absolute_percentage_error: 0.5331\n",
      "Epoch 114/200\n",
      " - 1s - loss: 233.9251 - mean_absolute_percentage_error: 0.4889\n",
      "Epoch 115/200\n",
      " - 1s - loss: 243.3361 - mean_absolute_percentage_error: 0.5080\n",
      "Epoch 116/200\n",
      " - 1s - loss: 286.5944 - mean_absolute_percentage_error: 0.5078\n",
      "Epoch 117/200\n",
      " - 1s - loss: 247.3922 - mean_absolute_percentage_error: 0.5125\n",
      "Epoch 118/200\n",
      " - 1s - loss: 199.3745 - mean_absolute_percentage_error: 0.4608\n",
      "Epoch 119/200\n",
      " - 1s - loss: 366.6510 - mean_absolute_percentage_error: 0.5471\n",
      "Epoch 120/200\n",
      " - 1s - loss: 497.1406 - mean_absolute_percentage_error: 0.5908\n",
      "Epoch 121/200\n",
      " - 1s - loss: 315.4189 - mean_absolute_percentage_error: 0.5898\n",
      "Epoch 122/200\n",
      " - 1s - loss: 251.4216 - mean_absolute_percentage_error: 0.5019\n",
      "Epoch 123/200\n",
      " - 1s - loss: 227.0412 - mean_absolute_percentage_error: 0.4869\n",
      "Epoch 124/200\n",
      " - 1s - loss: 267.1069 - mean_absolute_percentage_error: 0.5008\n",
      "Epoch 125/200\n",
      " - 1s - loss: 471.9570 - mean_absolute_percentage_error: 0.6101\n",
      "Epoch 126/200\n",
      " - 1s - loss: 683.4238 - mean_absolute_percentage_error: 0.7153\n",
      "Epoch 127/200\n",
      " - 1s - loss: 6092.3642 - mean_absolute_percentage_error: 1.8289\n",
      "Epoch 128/200\n",
      " - 1s - loss: 4723.8491 - mean_absolute_percentage_error: 1.8275\n",
      "Epoch 129/200\n",
      " - 1s - loss: 3083.2698 - mean_absolute_percentage_error: 1.6625\n",
      "Epoch 130/200\n",
      " - 1s - loss: 1137.3558 - mean_absolute_percentage_error: 1.0700\n",
      "Epoch 131/200\n",
      " - 1s - loss: 1320.3637 - mean_absolute_percentage_error: 1.1594\n",
      "Epoch 132/200\n",
      " - 1s - loss: 995.5873 - mean_absolute_percentage_error: 1.0471\n",
      "Epoch 133/200\n",
      " - 1s - loss: 372.0493 - mean_absolute_percentage_error: 0.6586\n",
      "Epoch 134/200\n",
      " - 1s - loss: 228.3411 - mean_absolute_percentage_error: 0.4996\n",
      "Epoch 135/200\n",
      " - 1s - loss: 230.4802 - mean_absolute_percentage_error: 0.5240\n",
      "Epoch 136/200\n",
      " - 1s - loss: 262.7928 - mean_absolute_percentage_error: 0.5089\n",
      "Epoch 137/200\n",
      " - 1s - loss: 257.6851 - mean_absolute_percentage_error: 0.5192\n",
      "Epoch 138/200\n",
      " - 1s - loss: 342.4985 - mean_absolute_percentage_error: 0.5830\n",
      "Epoch 139/200\n",
      " - 1s - loss: 305.4819 - mean_absolute_percentage_error: 0.5673\n",
      "Epoch 140/200\n",
      " - 1s - loss: 242.4053 - mean_absolute_percentage_error: 0.5055\n",
      "Epoch 141/200\n",
      " - 1s - loss: 322.5494 - mean_absolute_percentage_error: 0.5702\n",
      "Epoch 142/200\n",
      " - 1s - loss: 203.9482 - mean_absolute_percentage_error: 0.4706\n",
      "Epoch 143/200\n",
      " - 1s - loss: 311.2439 - mean_absolute_percentage_error: 0.5757\n",
      "Epoch 144/200\n",
      " - 1s - loss: 309.1130 - mean_absolute_percentage_error: 0.6056\n",
      "Epoch 145/200\n",
      " - 1s - loss: 227.1115 - mean_absolute_percentage_error: 0.4970\n",
      "Epoch 146/200\n",
      " - 1s - loss: 199.2120 - mean_absolute_percentage_error: 0.4674\n",
      "Epoch 147/200\n",
      " - 1s - loss: 256.7235 - mean_absolute_percentage_error: 0.5248\n",
      "Epoch 148/200\n",
      " - 1s - loss: 243.0498 - mean_absolute_percentage_error: 0.5104\n",
      "Epoch 149/200\n",
      " - 1s - loss: 234.7509 - mean_absolute_percentage_error: 0.4913\n",
      "Epoch 150/200\n",
      " - 1s - loss: 374.7506 - mean_absolute_percentage_error: 0.5526\n",
      "Epoch 151/200\n",
      " - 1s - loss: 769.2891 - mean_absolute_percentage_error: 0.8132\n",
      "Epoch 152/200\n",
      " - 1s - loss: 697.2308 - mean_absolute_percentage_error: 0.8155\n",
      "Epoch 153/200\n",
      " - 1s - loss: 469.0862 - mean_absolute_percentage_error: 0.6823\n",
      "Epoch 154/200\n",
      " - 1s - loss: 621.0950 - mean_absolute_percentage_error: 0.7743\n",
      "Epoch 155/200\n",
      " - 1s - loss: 964.8903 - mean_absolute_percentage_error: 1.1451\n",
      "Epoch 156/200\n",
      " - 1s - loss: 929.3532 - mean_absolute_percentage_error: 1.0199\n",
      "Epoch 157/200\n",
      " - 1s - loss: 481.3292 - mean_absolute_percentage_error: 0.6178\n",
      "Epoch 158/200\n",
      " - 1s - loss: 318.0705 - mean_absolute_percentage_error: 0.5794\n",
      "Epoch 159/200\n",
      " - 1s - loss: 324.5949 - mean_absolute_percentage_error: 0.5525\n",
      "Epoch 160/200\n",
      " - 1s - loss: 242.0059 - mean_absolute_percentage_error: 0.5240\n",
      "Epoch 161/200\n",
      " - 1s - loss: 238.7058 - mean_absolute_percentage_error: 0.5005\n",
      "Epoch 162/200\n",
      " - 1s - loss: 373.2033 - mean_absolute_percentage_error: 0.5868\n",
      "Epoch 163/200\n",
      " - 1s - loss: 956.8769 - mean_absolute_percentage_error: 0.8185\n",
      "Epoch 164/200\n",
      " - 1s - loss: 11280.4422 - mean_absolute_percentage_error: 2.8128\n",
      "Epoch 165/200\n",
      " - 1s - loss: 3714.0652 - mean_absolute_percentage_error: 1.6545\n",
      "Epoch 166/200\n",
      " - 1s - loss: 1208.8262 - mean_absolute_percentage_error: 1.2272\n",
      "Epoch 167/200\n",
      " - 1s - loss: 793.5263 - mean_absolute_percentage_error: 0.9386\n",
      "Epoch 168/200\n",
      " - 1s - loss: 509.4719 - mean_absolute_percentage_error: 0.7325\n",
      "Epoch 169/200\n",
      " - 1s - loss: 270.1095 - mean_absolute_percentage_error: 0.5338\n",
      "Epoch 170/200\n",
      " - 1s - loss: 431.5853 - mean_absolute_percentage_error: 0.6174\n",
      "Epoch 171/200\n",
      " - 1s - loss: 649.6931 - mean_absolute_percentage_error: 0.7886\n",
      "Epoch 172/200\n",
      " - 1s - loss: 264.8899 - mean_absolute_percentage_error: 0.5830\n",
      "Epoch 173/200\n",
      " - 1s - loss: 254.6118 - mean_absolute_percentage_error: 0.5087\n",
      "Epoch 174/200\n",
      " - 1s - loss: 305.0667 - mean_absolute_percentage_error: 0.5573\n",
      "Epoch 175/200\n",
      " - 1s - loss: 247.5617 - mean_absolute_percentage_error: 0.5246\n",
      "Epoch 176/200\n",
      " - 1s - loss: 223.7745 - mean_absolute_percentage_error: 0.4813\n",
      "Epoch 177/200\n",
      " - 1s - loss: 237.6180 - mean_absolute_percentage_error: 0.4828\n",
      "Epoch 178/200\n",
      " - 1s - loss: 467.2292 - mean_absolute_percentage_error: 0.5876\n",
      "Epoch 179/200\n",
      " - 1s - loss: 380.7368 - mean_absolute_percentage_error: 0.6095\n",
      "Epoch 180/200\n",
      " - 1s - loss: 556.3586 - mean_absolute_percentage_error: 0.8064\n",
      "Epoch 181/200\n",
      " - 1s - loss: 1286.5624 - mean_absolute_percentage_error: 0.9909\n",
      "Epoch 182/200\n",
      " - 1s - loss: 830.4388 - mean_absolute_percentage_error: 0.9546\n",
      "Epoch 183/200\n",
      " - 1s - loss: 458.2080 - mean_absolute_percentage_error: 0.6756\n",
      "Epoch 184/200\n",
      " - 1s - loss: 303.3784 - mean_absolute_percentage_error: 0.5842\n",
      "Epoch 185/200\n",
      " - 1s - loss: 274.6876 - mean_absolute_percentage_error: 0.5488\n",
      "Epoch 186/200\n",
      " - 1s - loss: 362.6238 - mean_absolute_percentage_error: 0.5843\n",
      "Epoch 187/200\n",
      " - 1s - loss: 282.7507 - mean_absolute_percentage_error: 0.5298\n",
      "Epoch 188/200\n",
      " - 1s - loss: 332.0285 - mean_absolute_percentage_error: 0.6245\n",
      "Epoch 189/200\n",
      " - 1s - loss: 285.9190 - mean_absolute_percentage_error: 0.5698\n",
      "Epoch 190/200\n",
      " - 1s - loss: 231.2164 - mean_absolute_percentage_error: 0.4930\n",
      "Epoch 191/200\n",
      " - 1s - loss: 244.3118 - mean_absolute_percentage_error: 0.5234\n",
      "Epoch 192/200\n",
      " - 1s - loss: 413.5888 - mean_absolute_percentage_error: 0.6215\n",
      "Epoch 193/200\n",
      " - 1s - loss: 471.0990 - mean_absolute_percentage_error: 0.6850\n",
      "Epoch 194/200\n",
      " - 1s - loss: 2695.6783 - mean_absolute_percentage_error: 1.5425\n",
      "Epoch 195/200\n",
      " - 1s - loss: 3949.9598 - mean_absolute_percentage_error: 1.7381\n",
      "Epoch 196/200\n",
      " - 1s - loss: 962.6741 - mean_absolute_percentage_error: 0.9193\n",
      "Epoch 197/200\n",
      " - 1s - loss: 633.9772 - mean_absolute_percentage_error: 0.7282\n",
      "Epoch 198/200\n",
      " - 1s - loss: 587.9048 - mean_absolute_percentage_error: 0.7491\n",
      "Epoch 199/200\n",
      " - 1s - loss: 560.1258 - mean_absolute_percentage_error: 0.7232\n",
      "Epoch 200/200\n",
      " - 1s - loss: 423.0359 - mean_absolute_percentage_error: 0.7135\n"
     ]
    }
   ],
   "source": [
    "epoch = 200\n",
    "batch = 32\n",
    "\n",
    "history = model.fit(X,t,epochs=epoch,verbose=2,batch_size=batch)"
   ]
  },
  {
   "cell_type": "code",
   "execution_count": 11,
   "metadata": {},
   "outputs": [
    {
     "data": {
      "text/plain": [
       "[<matplotlib.lines.Line2D at 0x2b0744ffbd30>]"
      ]
     },
     "execution_count": 11,
     "metadata": {},
     "output_type": "execute_result"
    },
    {
     "data": {
      "image/png": "[encoded data removed]",
      "text/plain": [
       "<Figure size 432x288 with 1 Axes>"
      ]
     },
     "metadata": {
      "needs_background": "light"
     },
     "output_type": "display_data"
    }
   ],
   "source": [
    "plt.plot(np.log(history.history['loss']))"
   ]
  },
  {
   "cell_type": "code",
   "execution_count": 12,
   "metadata": {},
   "outputs": [
    {
     "data": {
      "text/plain": [
       "[<matplotlib.lines.Line2D at 0x2b07452fa978>]"
      ]
     },
     "execution_count": 12,
     "metadata": {},
     "output_type": "execute_result"
    },
    {
     "data": {
      "image/png": "[encoded data removed]",
      "text/plain": [
       "<Figure size 432x288 with 1 Axes>"
      ]
     },
     "metadata": {
      "needs_background": "light"
     },
     "output_type": "display_data"
    }
   ],
   "source": [
    "plt.plot( np.ravel(model.predict(labelscaler(np.asarray([15000,8.]).reshape(1,-1)))) )"
   ]
  },
  {
   "cell_type": "code",
   "execution_count": 13,
   "metadata": {},
   "outputs": [
    {
     "data": {
      "text/plain": [
       "<matplotlib.legend.Legend at 0x2b0745375f98>"
      ]
     },
     "execution_count": 13,
     "metadata": {},
     "output_type": "execute_result"
    },
    {
     "data": {
      "image/png": "[encoded data removed]",
      "text/plain": [
       "<Figure size 576x360 with 1 Axes>"
      ]
     },
     "metadata": {
      "needs_background": "light"
     },
     "output_type": "display_data"
    }
   ],
   "source": [
    "ts = np.arange(5000,20000,10)\n",
    "#ls = np.linspace(6.5,9.5,50)\n",
    "lmask = (loggs == 8)*(teffs < 20000)\n",
    "mods = []\n",
    "\n",
    "for i in ts:\n",
    "    mods.append(model.predict(labelscaler(np.asarray([i,8.]).reshape(1, -1))))\n",
    "mods = np.asarray(mods)\n",
    "\n",
    "plt.figure(figsize = (8,5))\n",
    "pixel = 2563\n",
    "plt.plot(ts,mods[:,0,pixel]*modelscaling,'r',label='Generated Model')\n",
    "plt.plot(teffs[lmask],modelspectra[:,pixel][lmask],'k.',label='Truth')\n",
    "plt.title('Spaxel Fit: %i Angstrom'%(pixel+4000))\n",
    "plt.xlabel('$T_{eff}$ (Kelvin)')\n",
    "plt.ylabel('Flux')\n",
    "plt.legend()"
   ]
  },
  {
   "cell_type": "code",
   "execution_count": 14,
   "metadata": {},
   "outputs": [
    {
     "data": {
      "text/plain": [
       "<matplotlib.legend.Legend at 0x2b0745472eb8>"
      ]
     },
     "execution_count": 14,
     "metadata": {},
     "output_type": "execute_result"
    },
    {
     "data": {
      "image/png": "[encoded data removed]",
      "text/plain": [
       "<Figure size 576x360 with 1 Axes>"
      ]
     },
     "metadata": {
      "needs_background": "light"
     },
     "output_type": "display_data"
    }
   ],
   "source": [
    "ls = np.linspace(6.5,9.5,100)\n",
    "\n",
    "tmask = (teffs == 15000)\n",
    "mods = []\n",
    "\n",
    "for i in ls:\n",
    "    mods.append(model.predict(labelscaler(np.asarray([15000,i]).reshape(1, -1))))\n",
    "mods = np.asarray(mods)\n",
    "\n",
    "plt.figure(figsize = (8,5))\n",
    "pixel = 250\n",
    "plt.plot(ls,mods[:,0,pixel]*modelscaling,'r--',label='Generated Model')\n",
    "plt.plot(loggs[tmask],modelspectra[:,pixel][tmask],'k.',label='Truth')\n",
    "plt.title('Spaxel Fit: %i Angstrom'%(pixel+4000))\n",
    "plt.xlabel('Log(g) (dex)')\n",
    "plt.ylabel('Flux')\n",
    "plt.legend()"
   ]
  },
  {
   "cell_type": "code",
   "execution_count": 15,
   "metadata": {},
   "outputs": [
    {
     "data": {
      "text/plain": [
       "<matplotlib.legend.Legend at 0x2b07454c3dd8>"
      ]
     },
     "execution_count": 15,
     "metadata": {},
     "output_type": "execute_result"
    },
    {
     "data": {
      "image/png": "[encoded data removed]",
      "text/plain": [
       "<Figure size 576x360 with 1 Axes>"
      ]
     },
     "metadata": {
      "needs_background": "light"
     },
     "output_type": "display_data"
    }
   ],
   "source": [
    "ls = np.linspace(6.5,9.5,100)\n",
    "\n",
    "tmask = (teffs == 15000)\n",
    "mods = []\n",
    "\n",
    "for i in ls:\n",
    "    mods.append(model.predict(labelscaler(np.asarray([15000,i]).reshape(1, -1))))\n",
    "mods = np.asarray(mods)\n",
    "\n",
    "plt.figure(figsize = (8,5))\n",
    "pixel = 500\n",
    "plt.plot(ls,mods[:,0,pixel]*modelscaling,'r--',label='Generated Model')\n",
    "plt.plot(loggs[tmask],modelspectra[:,pixel][tmask],'k.',label='Truth')\n",
    "plt.title('Spaxel Fit: %i Angstrom'%(pixel+4000))\n",
    "plt.xlabel('Log(g) (dex)')\n",
    "plt.ylabel('Flux')\n",
    "plt.legend()"
   ]
  },
  {
   "cell_type": "code",
   "execution_count": 16,
   "metadata": {},
   "outputs": [
    {
     "data": {
      "text/plain": [
       "<matplotlib.legend.Legend at 0x2b0745548f98>"
      ]
     },
     "execution_count": 16,
     "metadata": {},
     "output_type": "execute_result"
    },
    {
     "data": {
      "image/png": "[encoded data removed]",
      "text/plain": [
       "<Figure size 576x360 with 1 Axes>"
      ]
     },
     "metadata": {
      "needs_background": "light"
     },
     "output_type": "display_data"
    }
   ],
   "source": [
    "ls = np.linspace(6.5,9.5,100)\n",
    "\n",
    "tmask = (teffs == 15000)\n",
    "mods = []\n",
    "\n",
    "for i in ls:\n",
    "    mods.append(model.predict(labelscaler(np.asarray([15000,i]).reshape(1, -1))))\n",
    "mods = np.asarray(mods)\n",
    "\n",
    "plt.figure(figsize = (8,5))\n",
    "pixel = 2563\n",
    "plt.plot(ls,mods[:,0,pixel]*modelscaling,'r--',label='Generated Model')\n",
    "plt.plot(loggs[tmask],modelspectra[:,pixel][tmask],'k.',label='Truth')\n",
    "plt.title('Spaxel Fit: %i Angstrom'%(pixel+4000))\n",
    "plt.xlabel('Log(g) (dex)')\n",
    "plt.ylabel('Flux')\n",
    "plt.legend()"
   ]
  },
  {
   "cell_type": "code",
   "execution_count": 60,
   "metadata": {},
   "outputs": [],
   "source": [
    "preds = model.predict(X)"
   ]
  },
  {
   "cell_type": "code",
   "execution_count": 70,
   "metadata": {},
   "outputs": [
    {
     "data": {
      "image/png": "[encoded data removed]",
      "text/plain": [
       "<Figure size 432x288 with 1 Axes>"
      ]
     },
     "metadata": {
      "needs_background": "light"
     },
     "output_type": "display_data"
    }
   ],
   "source": [
    "plt.hist((np.sqrt(np.mean((preds-t)**2,axis=1))));"
   ]
  },
  {
   "cell_type": "code",
   "execution_count": 185,
   "metadata": {},
   "outputs": [],
   "source": [
    "model.save_weights('generator100_1024.h5')"
   ]
  },
  {
   "cell_type": "code",
   "execution_count": 19,
   "metadata": {},
   "outputs": [
    {
     "name": "stdout",
     "output_type": "stream",
     "text": [
      "[name: \"/device:CPU:0\"\n",
      "device_type: \"CPU\"\n",
      "memory_limit: 268435456\n",
      "locality {\n",
      "}\n",
      "incarnation: 2513531416673528214\n",
      ", name: \"/device:XLA_CPU:0\"\n",
      "device_type: \"XLA_CPU\"\n",
      "memory_limit: 17179869184\n",
      "locality {\n",
      "}\n",
      "incarnation: 6720802363262763369\n",
      "physical_device_desc: \"device: XLA_CPU device\"\n",
      "]\n"
     ]
    }
   ],
   "source": [
    "from tensorflow.python.client import device_lib\n",
    "print(device_lib.list_local_devices())"
   ]
  },
  {
   "cell_type": "code",
   "execution_count": 18,
   "metadata": {},
   "outputs": [
    {
     "name": "stdout",
     "output_type": "stream",
     "text": [
      "Thu Jul 25 18:12:57 2019\n",
      "              USER        JOBID PARTITION      NAME NODES  CPUS PRIORITY TIME_LIMIT     TIME        NODELIST ST REASON \n",
      "  vchandr8@jhu.edu     35598500 express    jupyter_     1     6    38593   10:00:00    50:33     compute0716 R None \n"
     ]
    }
   ],
   "source": [
    "%%bash\n",
    "\n",
    "sqme"
   ]
  },
  {
   "cell_type": "code",
   "execution_count": 17,
   "metadata": {},
   "outputs": [],
   "source": [
    "import tensorflow as tf\n",
    "sess = tf.Session(config=tf.ConfigProto(log_device_placement=True))"
   ]
  },
  {
   "cell_type": "code",
   "execution_count": 23,
   "metadata": {},
   "outputs": [
    {
     "ename": "InternalError",
     "evalue": "cudaGetDevice() failed. Status: CUDA driver version is insufficient for CUDA runtime version",
     "output_type": "error",
     "traceback": [
      "\u001b[0;31m---------------------------------------------------------------------------\u001b[0m",
      "\u001b[0;31mInternalError\u001b[0m                             Traceback (most recent call last)",
      "\u001b[0;32m<ipython-input-23-c5bfadb9e4cc>\u001b[0m in \u001b[0;36m<module>\u001b[0;34m\u001b[0m\n\u001b[1;32m      4\u001b[0m \u001b[0mos\u001b[0m\u001b[0;34m.\u001b[0m\u001b[0menviron\u001b[0m\u001b[0;34m[\u001b[0m\u001b[0;34m'CUDA_VISIBLE_DEVICES'\u001b[0m\u001b[0;34m]\u001b[0m \u001b[0;34m=\u001b[0m \u001b[0;34m'-1'\u001b[0m\u001b[0;34m\u001b[0m\u001b[0;34m\u001b[0m\u001b[0m\n\u001b[1;32m      5\u001b[0m \u001b[0;34m\u001b[0m\u001b[0m\n\u001b[0;32m----> 6\u001b[0;31m \u001b[0;32mif\u001b[0m \u001b[0mtf\u001b[0m\u001b[0;34m.\u001b[0m\u001b[0mtest\u001b[0m\u001b[0;34m.\u001b[0m\u001b[0mgpu_device_name\u001b[0m\u001b[0;34m(\u001b[0m\u001b[0;34m)\u001b[0m\u001b[0;34m:\u001b[0m\u001b[0;34m\u001b[0m\u001b[0;34m\u001b[0m\u001b[0m\n\u001b[0m\u001b[1;32m      7\u001b[0m     \u001b[0mprint\u001b[0m\u001b[0;34m(\u001b[0m\u001b[0;34m'GPU found'\u001b[0m\u001b[0;34m)\u001b[0m\u001b[0;34m\u001b[0m\u001b[0;34m\u001b[0m\u001b[0m\n\u001b[1;32m      8\u001b[0m \u001b[0;32melse\u001b[0m\u001b[0;34m:\u001b[0m\u001b[0;34m\u001b[0m\u001b[0;34m\u001b[0m\u001b[0m\n",
      "\u001b[0;32m~/anaconda/lib/python3.7/site-packages/tensorflow/python/framework/test_util.py\u001b[0m in \u001b[0;36mgpu_device_name\u001b[0;34m()\u001b[0m\n\u001b[1;32m    103\u001b[0m \u001b[0;32mdef\u001b[0m \u001b[0mgpu_device_name\u001b[0m\u001b[0;34m(\u001b[0m\u001b[0;34m)\u001b[0m\u001b[0;34m:\u001b[0m\u001b[0;34m\u001b[0m\u001b[0;34m\u001b[0m\u001b[0m\n\u001b[1;32m    104\u001b[0m   \u001b[0;34m\"\"\"Returns the name of a GPU device if available or the empty string.\"\"\"\u001b[0m\u001b[0;34m\u001b[0m\u001b[0;34m\u001b[0m\u001b[0m\n\u001b[0;32m--> 105\u001b[0;31m   \u001b[0;32mfor\u001b[0m \u001b[0mx\u001b[0m \u001b[0;32min\u001b[0m \u001b[0mdevice_lib\u001b[0m\u001b[0;34m.\u001b[0m\u001b[0mlist_local_devices\u001b[0m\u001b[0;34m(\u001b[0m\u001b[0;34m)\u001b[0m\u001b[0;34m:\u001b[0m\u001b[0;34m\u001b[0m\u001b[0;34m\u001b[0m\u001b[0m\n\u001b[0m\u001b[1;32m    106\u001b[0m     \u001b[0;32mif\u001b[0m \u001b[0mx\u001b[0m\u001b[0;34m.\u001b[0m\u001b[0mdevice_type\u001b[0m \u001b[0;34m==\u001b[0m \u001b[0;34m\"GPU\"\u001b[0m \u001b[0;32mor\u001b[0m \u001b[0mx\u001b[0m\u001b[0;34m.\u001b[0m\u001b[0mdevice_type\u001b[0m \u001b[0;34m==\u001b[0m \u001b[0;34m\"SYCL\"\u001b[0m\u001b[0;34m:\u001b[0m\u001b[0;34m\u001b[0m\u001b[0;34m\u001b[0m\u001b[0m\n\u001b[1;32m    107\u001b[0m       \u001b[0;32mreturn\u001b[0m \u001b[0mcompat\u001b[0m\u001b[0;34m.\u001b[0m\u001b[0mas_str\u001b[0m\u001b[0;34m(\u001b[0m\u001b[0mx\u001b[0m\u001b[0;34m.\u001b[0m\u001b[0mname\u001b[0m\u001b[0;34m)\u001b[0m\u001b[0;34m\u001b[0m\u001b[0;34m\u001b[0m\u001b[0m\n",
      "\u001b[0;32m~/anaconda/lib/python3.7/site-packages/tensorflow/python/client/device_lib.py\u001b[0m in \u001b[0;36mlist_local_devices\u001b[0;34m(session_config)\u001b[0m\n\u001b[1;32m     39\u001b[0m   return [\n\u001b[1;32m     40\u001b[0m       \u001b[0m_convert\u001b[0m\u001b[0;34m(\u001b[0m\u001b[0ms\u001b[0m\u001b[0;34m)\u001b[0m\u001b[0;34m\u001b[0m\u001b[0;34m\u001b[0m\u001b[0m\n\u001b[0;32m---> 41\u001b[0;31m       \u001b[0;32mfor\u001b[0m \u001b[0ms\u001b[0m \u001b[0;32min\u001b[0m \u001b[0mpywrap_tensorflow\u001b[0m\u001b[0;34m.\u001b[0m\u001b[0mlist_devices\u001b[0m\u001b[0;34m(\u001b[0m\u001b[0msession_config\u001b[0m\u001b[0;34m=\u001b[0m\u001b[0msession_config\u001b[0m\u001b[0;34m)\u001b[0m\u001b[0;34m\u001b[0m\u001b[0;34m\u001b[0m\u001b[0m\n\u001b[0m\u001b[1;32m     42\u001b[0m   ]\n",
      "\u001b[0;32m~/anaconda/lib/python3.7/site-packages/tensorflow/python/pywrap_tensorflow_internal.py\u001b[0m in \u001b[0;36mlist_devices\u001b[0;34m(session_config)\u001b[0m\n\u001b[1;32m   2200\u001b[0m     \u001b[0;32mreturn\u001b[0m \u001b[0mListDevicesWithSessionConfig\u001b[0m\u001b[0;34m(\u001b[0m\u001b[0msession_config\u001b[0m\u001b[0;34m.\u001b[0m\u001b[0mSerializeToString\u001b[0m\u001b[0;34m(\u001b[0m\u001b[0;34m)\u001b[0m\u001b[0;34m)\u001b[0m\u001b[0;34m\u001b[0m\u001b[0;34m\u001b[0m\u001b[0m\n\u001b[1;32m   2201\u001b[0m   \u001b[0;32melse\u001b[0m\u001b[0;34m:\u001b[0m\u001b[0;34m\u001b[0m\u001b[0;34m\u001b[0m\u001b[0m\n\u001b[0;32m-> 2202\u001b[0;31m     \u001b[0;32mreturn\u001b[0m \u001b[0mListDevices\u001b[0m\u001b[0;34m(\u001b[0m\u001b[0;34m)\u001b[0m\u001b[0;34m\u001b[0m\u001b[0;34m\u001b[0m\u001b[0m\n\u001b[0m\u001b[1;32m   2203\u001b[0m \u001b[0;34m\u001b[0m\u001b[0m\n\u001b[1;32m   2204\u001b[0m \u001b[0;34m\u001b[0m\u001b[0m\n",
      "\u001b[0;31mInternalError\u001b[0m: cudaGetDevice() failed. Status: CUDA driver version is insufficient for CUDA runtime version"
     ]
    }
   ],
   "source": [
    "import os\n",
    "import tensorflow as tf\n",
    "\n",
    "os.environ['CUDA_VISIBLE_DEVICES'] = '-1'\n",
    "\n",
    "if tf.test.gpu_device_name():\n",
    "    print('GPU found')\n",
    "else:\n",
    "    print(\"No GPU found\")"
   ]
  },
  {
   "cell_type": "code",
   "execution_count": 19,
   "metadata": {},
   "outputs": [],
   "source": [
    "config = tf.ConfigProto(\n",
    "        device_count = {'GPU': 0}\n",
    "    )\n",
    "sess = tf.Session(config=config)"
   ]
  },
  {
   "cell_type": "code",
   "execution_count": 20,
   "metadata": {},
   "outputs": [],
   "source": [
    "import os\n",
    "os.environ['CUDA_VISIBLE_DEVICES'] = '-1'"
   ]
  },
  {
   "cell_type": "code",
   "execution_count": null,
   "metadata": {},
   "outputs": [],
   "source": []
  }
 ],
 "metadata": {
  "kernelspec": {
   "display_name": "Python [conda env:anaconda]",
   "language": "python",
   "name": "conda-env-anaconda-py"
  },
  "language_info": {
   "codemirror_mode": {
    "name": "ipython",
    "version": 3
   },
   "file_extension": ".py",
   "mimetype": "text/x-python",
   "name": "python",
   "nbconvert_exporter": "python",
   "pygments_lexer": "ipython3",
   "version": "3.7.3"
  }
 },
 "nbformat": 4,
 "nbformat_minor": 2
}
