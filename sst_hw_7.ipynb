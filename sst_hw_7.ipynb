{
 "cells": [
  {
   "cell_type": "markdown",
   "metadata": {},
   "source": [
    "# Space Sciences HW 7 - Vedant Chandra"
   ]
  },
  {
   "cell_type": "markdown",
   "metadata": {},
   "source": [
    "### Q1) SOI - Hill Sphere"
   ]
  },
  {
   "cell_type": "code",
   "execution_count": 1,
   "metadata": {},
   "outputs": [],
   "source": [
    "import numpy as np\n",
    "\n",
    "def rsoi(a,m,M):\n",
    "    return a * (m/M)**(2/5)\n",
    "\n",
    "def rhill(a,m,M):\n",
    "    return a * (m/(3*M))**(1/3)\n",
    "\n",
    "def rs(a,m,M):\n",
    "    print('R_soi = %i km, R_hill = %i km'%(rsoi(a,m,M)/1000,rhill(a,m,M)/1000))\n",
    "\n",
    "Mearth = 5.9e24\n",
    "Msun = 1.9e30\n",
    "Msaturn = 5.6e26\n",
    "Mmars = 6.417e23"
   ]
  },
  {
   "cell_type": "code",
   "execution_count": 2,
   "metadata": {},
   "outputs": [
    {
     "name": "stdout",
     "output_type": "stream",
     "text": [
      "R_soi = 939573 km, R_hill = 1517342 km\n"
     ]
    }
   ],
   "source": [
    "# Sun-Earth\n",
    "\n",
    "a = 1.5e11\n",
    "m = Mearth\n",
    "M = Msun\n",
    "\n",
    "rs(a,m,M)"
   ]
  },
  {
   "cell_type": "code",
   "execution_count": 3,
   "metadata": {},
   "outputs": [
    {
     "name": "stdout",
     "output_type": "stream",
     "text": [
      "R_soi = 580248 km, R_hill = 1086429 km\n"
     ]
    }
   ],
   "source": [
    "# Sun-Mars\n",
    "\n",
    "a = 1.5*1.5e11\n",
    "m = Mmars\n",
    "M = Msun\n",
    "\n",
    "rs(a,m,M)"
   ]
  },
  {
   "cell_type": "code",
   "execution_count": 4,
   "metadata": {},
   "outputs": [
    {
     "name": "stdout",
     "output_type": "stream",
     "text": [
      "R_soi = 55155475 km, R_hill = 65753557 km\n"
     ]
    }
   ],
   "source": [
    "# Sun-Saturn\n",
    "\n",
    "a = 9.5*1.5e11\n",
    "m = Msaturn\n",
    "M = Msun\n",
    "\n",
    "rs(a,m,M)"
   ]
  },
  {
   "cell_type": "code",
   "execution_count": 5,
   "metadata": {},
   "outputs": [
    {
     "name": "stdout",
     "output_type": "stream",
     "text": [
      "R_soi = 8 km, R_hill = 21 km\n"
     ]
    }
   ],
   "source": [
    "# Mars-Deimos\n",
    "\n",
    "a = 23460000\n",
    "m = 1.5e15\n",
    "M = Mmars\n",
    "\n",
    "rs(a,m,M)"
   ]
  },
  {
   "cell_type": "code",
   "execution_count": 6,
   "metadata": {},
   "outputs": [
    {
     "name": "stdout",
     "output_type": "stream",
     "text": [
      "R_soi = 42216 km, R_hill = 51135 km\n"
     ]
    }
   ],
   "source": [
    "# Saturn-Titan\n",
    "\n",
    "a = 1.2e9\n",
    "m = 1.3e23\n",
    "M = Msaturn\n",
    "\n",
    "rs(a,m,M)"
   ]
  },
  {
   "cell_type": "code",
   "execution_count": 7,
   "metadata": {},
   "outputs": [
    {
     "name": "stdout",
     "output_type": "stream",
     "text": [
      "R_soi = 475 km, R_hill = 929 km\n"
     ]
    }
   ],
   "source": [
    "# Saturn-Enceladus\n",
    "\n",
    "a = 238040000\n",
    "m = 1e20\n",
    "M = Msaturn\n",
    "\n",
    "rs(a,m,M)"
   ]
  },
  {
   "cell_type": "markdown",
   "metadata": {},
   "source": [
    "### Q2) Escape Velocity, Q3) Orbital Velocity"
   ]
  },
  {
   "cell_type": "code",
   "execution_count": 8,
   "metadata": {},
   "outputs": [],
   "source": [
    "Mdeimos = 1.5e15\n",
    "rdeimos = 23460000\n",
    "Mtitan = 1.3e23\n",
    "rtitan = 1.2e9\n",
    "Menc = 1e20\n",
    "renc = 238040000\n",
    "G = 6.674e-11\n",
    "\n",
    "def v_orbit(a,M):\n",
    "    return np.sqrt(G*M/a)\n",
    "def v_escape(a,M):\n",
    "    return np.sqrt(2)*v_orbit(a,M)\n",
    "def vs(a,M):\n",
    "    print('Escape Velocity = %.2f km/s, Orbital Velocity = %.2f km/s'%(v_escape(a,M)/1000, v_orbit(a,M)/1000))"
   ]
  },
  {
   "cell_type": "code",
   "execution_count": 9,
   "metadata": {},
   "outputs": [
    {
     "name": "stdout",
     "output_type": "stream",
     "text": [
      "Escape Velocity = 1.91 km/s, Orbital Velocity = 1.35 km/s\n"
     ]
    }
   ],
   "source": [
    "# Mars-Deimos\n",
    "\n",
    "a = rdeimos\n",
    "M = Mmars\n",
    "\n",
    "vs(a,M)"
   ]
  },
  {
   "cell_type": "code",
   "execution_count": 10,
   "metadata": {},
   "outputs": [
    {
     "name": "stdout",
     "output_type": "stream",
     "text": [
      "Escape Velocity = 7.89 km/s, Orbital Velocity = 5.58 km/s\n"
     ]
    }
   ],
   "source": [
    "# Saturn-Titan\n",
    "\n",
    "a = rtitan\n",
    "M = Msaturn\n",
    "\n",
    "vs(a,M)"
   ]
  },
  {
   "cell_type": "code",
   "execution_count": 11,
   "metadata": {},
   "outputs": [
    {
     "name": "stdout",
     "output_type": "stream",
     "text": [
      "Escape Velocity = 17.72 km/s, Orbital Velocity = 12.53 km/s\n"
     ]
    }
   ],
   "source": [
    "# Saturn-Enceladus\n",
    "\n",
    "a = renc\n",
    "M = Msaturn\n",
    "\n",
    "vs(a,M)"
   ]
  },
  {
   "cell_type": "markdown",
   "metadata": {},
   "source": [
    "### Q4) Spacecraft in orbit around Saturn at 1000 km"
   ]
  },
  {
   "cell_type": "code",
   "execution_count": 12,
   "metadata": {},
   "outputs": [
    {
     "name": "stdout",
     "output_type": "stream",
     "text": [
      "Orbital Velocity is 25.10 km/s\n",
      "Orbital Period is 4.12 hrs\n"
     ]
    }
   ],
   "source": [
    "a = (1000 + 58300)*1000\n",
    "def period(a,M):\n",
    "    return 2*np.pi*np.sqrt(a**3 / (G * M))\n",
    "\n",
    "print('Orbital Velocity is %.2f km/s'%(v_orbit(a,Msaturn)/1000))\n",
    "print('Orbital Period is %.2f hrs'%(period(a,Msaturn)/3600))\n"
   ]
  },
  {
   "cell_type": "code",
   "execution_count": 13,
   "metadata": {},
   "outputs": [
    {
     "name": "stdout",
     "output_type": "stream",
     "text": [
      "Velocity on arrival = 1.79 km/s\n",
      "This is slower than Titan`s orbital velocity around Saturn (5.58 km/s)\n"
     ]
    }
   ],
   "source": [
    "titan_hill = rhill(rtitan, Mtitan, Msaturn)\n",
    "r_apo = rtitan - titan_hill\n",
    "r_peri = a\n",
    "sma = np.mean([r_apo,r_peri])\n",
    "\n",
    "v_apo = np.sqrt(G * Msaturn * ( (2/r_apo) - (1/sma)  ))\n",
    "print('Velocity on arrival = %.2f km/s'%(v_apo/1000))\n",
    "print('This is slower than Titan`s orbital velocity around Saturn (5.58 km/s)')"
   ]
  },
  {
   "cell_type": "code",
   "execution_count": 14,
   "metadata": {},
   "outputs": [
    {
     "name": "stdout",
     "output_type": "stream",
     "text": [
      "Velocity on arrival = 7.94 km/s\n",
      "This is slower than Enceladus`s orbital velocity around Saturn (12.53 km/s)\n"
     ]
    }
   ],
   "source": [
    "enc_hill = rhill(renc, Menc, Msaturn)\n",
    "r_apo = renc - enc_hill\n",
    "r_peri = a\n",
    "sma = np.mean([r_apo,r_peri])\n",
    "\n",
    "v_apo = np.sqrt(G * Msaturn * ( (2/r_apo) - (1/sma)  ))\n",
    "print('Velocity on arrival = %.2f km/s'%(v_apo/1000))\n",
    "print('This is slower than Enceladus`s orbital velocity around Saturn (12.53 km/s)')"
   ]
  },
  {
   "cell_type": "code",
   "execution_count": 15,
   "metadata": {},
   "outputs": [
    {
     "name": "stdout",
     "output_type": "stream",
     "text": [
      "Velocity on arrival = 0.70 km/s\n",
      "This is slower than Deimos`s orbital velocity around mars (1.35 km/s)\n"
     ]
    }
   ],
   "source": [
    "# Assuming you mean Deimos' Hill Sphere in the question. \n",
    "\n",
    "a = (200 + 3389)*1000\n",
    "deimos_hill = rhill(rdeimos, Mdeimos, Mmars)\n",
    "r_apo = rdeimos - deimos_hill\n",
    "r_peri = a\n",
    "sma = np.mean([r_apo,r_peri])\n",
    "\n",
    "v_apo = np.sqrt(G * Mmars * ( (2/r_apo) - (1/sma)  ))\n",
    "print('Velocity on arrival = %.2f km/s'%(v_apo/1000))\n",
    "print('This is slower than Deimos`s orbital velocity around mars (1.35 km/s)')"
   ]
  },
  {
   "cell_type": "markdown",
   "metadata": {},
   "source": [
    "### Q-5) Sellers 15-14"
   ]
  },
  {
   "cell_type": "code",
   "execution_count": 16,
   "metadata": {},
   "outputs": [
    {
     "name": "stdout",
     "output_type": "stream",
     "text": [
      "The signal to noise ratio is 607167119565. This is absurdly high, and the uplink is very strong (or I made a calculation error).\n"
     ]
    }
   ],
   "source": [
    "link = 2e9\n",
    "bw = 300\n",
    "alt = 400\n",
    "a = (6370+alt)*1000\n",
    "transgain = 300\n",
    "rec_diameter = 30\n",
    "power = 13\n",
    "temp = 300\n",
    "kb = 1.38e-23\n",
    "c = 3e8\n",
    "linklam = c / link\n",
    "recgain = 4*np.pi* 0.55*(np.pi * (rec_diameter/2)**2) / (linklam**2)\n",
    "\n",
    "\n",
    "t1 = power*transgain / (kb*bw)\n",
    "t2 = (linklam / (4*np.pi*400000))**2\n",
    "t3 = recgain/temp\n",
    "\n",
    "SN = t1*t2*t3\n",
    "print('The signal to noise ratio is %i. This is absurdly high, and the uplink is very strong (or I made a calculation error).'%SN)"
   ]
  }
 ],
 "metadata": {
  "kernelspec": {
   "display_name": "Python 3",
   "language": "python",
   "name": "python3"
  },
  "language_info": {
   "codemirror_mode": {
    "name": "ipython",
    "version": 3
   },
   "file_extension": ".py",
   "mimetype": "text/x-python",
   "name": "python",
   "nbconvert_exporter": "python",
   "pygments_lexer": "ipython3",
   "version": "3.7.3"
  }
 },
 "nbformat": 4,
 "nbformat_minor": 2
}
